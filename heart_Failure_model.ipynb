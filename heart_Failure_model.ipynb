{
    "cells": [
        {
            "cell_type": "code",
            "execution_count": 1,
            "id": "d00c5500-9190-4db1-88b7-978672900e17",
            "metadata": {},
            "outputs": [],
            "source": [
                "import pandas as pd\nimport numpy as np\nimport xgboost as xgb\nimport matplotlib.pyplot as plt\nimport seaborn as sns\nfrom sklearn.model_selection import train_test_split, GridSearchCV\nfrom sklearn.preprocessing import StandardScaler, OneHotEncoder\nfrom sklearn.metrics import accuracy_score, precision_score, recall_score, f1_score, roc_auc_score"
            ]
        },
        {
            "cell_type": "code",
            "execution_count": 2,
            "id": "bf78b6d5-a02c-491b-9016-c71db00c5b6f",
            "metadata": {},
            "outputs": [],
            "source": [
                "admissions = pd.read_csv(\"admissions_202208161605.csv\")\ncptevents = pd.read_csv(\"cptevents_202208161605.csv\", low_memory=False)\nd_labitems = pd.read_csv(\"d_labitems_202208161605.csv\")\ndiagnoses_icd = pd.read_csv(\"diagnoses_icd_202208161605.csv\")\ndrgcodes = pd.read_csv(\"drgcodes_202208161605.csv\")\nlabevents = pd.read_csv(\"labevents_202208161605.csv\")\npatients = pd.read_csv(\"patients_202208161605.csv\")\nprocedures_icd = pd.read_csv(\"procedures_icd_202208161605.csv\")"
            ]
        },
        {
            "cell_type": "code",
            "execution_count": 3,
            "id": "645a1861-0385-47fd-b162-8464929be1aa",
            "metadata": {},
            "outputs": [
                {
                    "data": {
                        "text/html": [
                            "<div>\n",
                            "<style scoped>\n",
                            "    .dataframe tbody tr th:only-of-type {\n",
                            "        vertical-align: middle;\n",
                            "    }\n",
                            "\n",
                            "    .dataframe tbody tr th {\n",
                            "        vertical-align: top;\n",
                            "    }\n",
                            "\n",
                            "    .dataframe thead th {\n",
                            "        text-align: right;\n",
                            "    }\n",
                            "</style>\n",
                            "<table border=\"1\" class=\"dataframe\">\n",
                            "  <thead>\n",
                            "    <tr style=\"text-align: right;\">\n",
                            "      <th></th>\n",
                            "      <th>row_id</th>\n",
                            "      <th>subject_id</th>\n",
                            "      <th>gender</th>\n",
                            "      <th>dob</th>\n",
                            "      <th>dod</th>\n",
                            "      <th>dod_hosp</th>\n",
                            "      <th>dod_ssn</th>\n",
                            "      <th>expire_flag</th>\n",
                            "    </tr>\n",
                            "  </thead>\n",
                            "  <tbody>\n",
                            "    <tr>\n",
                            "      <th>0</th>\n",
                            "      <td>234</td>\n",
                            "      <td>249</td>\n",
                            "      <td>F</td>\n",
                            "      <td>2075-03-13 00:00:00.000</td>\n",
                            "      <td>NaN</td>\n",
                            "      <td>NaN</td>\n",
                            "      <td>NaN</td>\n",
                            "      <td>0</td>\n",
                            "    </tr>\n",
                            "    <tr>\n",
                            "      <th>1</th>\n",
                            "      <td>235</td>\n",
                            "      <td>250</td>\n",
                            "      <td>F</td>\n",
                            "      <td>2164-12-27 00:00:00.000</td>\n",
                            "      <td>2188-11-22 00:00:00.000</td>\n",
                            "      <td>2188-11-22 00:00:00.000</td>\n",
                            "      <td>NaN</td>\n",
                            "      <td>1</td>\n",
                            "    </tr>\n",
                            "    <tr>\n",
                            "      <th>2</th>\n",
                            "      <td>236</td>\n",
                            "      <td>251</td>\n",
                            "      <td>M</td>\n",
                            "      <td>2090-03-15 00:00:00.000</td>\n",
                            "      <td>NaN</td>\n",
                            "      <td>NaN</td>\n",
                            "      <td>NaN</td>\n",
                            "      <td>0</td>\n",
                            "    </tr>\n",
                            "    <tr>\n",
                            "      <th>3</th>\n",
                            "      <td>237</td>\n",
                            "      <td>252</td>\n",
                            "      <td>M</td>\n",
                            "      <td>2078-03-06 00:00:00.000</td>\n",
                            "      <td>NaN</td>\n",
                            "      <td>NaN</td>\n",
                            "      <td>NaN</td>\n",
                            "      <td>0</td>\n",
                            "    </tr>\n",
                            "    <tr>\n",
                            "      <th>4</th>\n",
                            "      <td>238</td>\n",
                            "      <td>253</td>\n",
                            "      <td>F</td>\n",
                            "      <td>2089-11-26 00:00:00.000</td>\n",
                            "      <td>NaN</td>\n",
                            "      <td>NaN</td>\n",
                            "      <td>NaN</td>\n",
                            "      <td>0</td>\n",
                            "    </tr>\n",
                            "  </tbody>\n",
                            "</table>\n",
                            "</div>"
                        ],
                        "text/plain": [
                            "   row_id  subject_id gender                      dob  \\\n",
                            "0     234         249      F  2075-03-13 00:00:00.000   \n",
                            "1     235         250      F  2164-12-27 00:00:00.000   \n",
                            "2     236         251      M  2090-03-15 00:00:00.000   \n",
                            "3     237         252      M  2078-03-06 00:00:00.000   \n",
                            "4     238         253      F  2089-11-26 00:00:00.000   \n",
                            "\n",
                            "                       dod                 dod_hosp dod_ssn  expire_flag  \n",
                            "0                      NaN                      NaN     NaN            0  \n",
                            "1  2188-11-22 00:00:00.000  2188-11-22 00:00:00.000     NaN            1  \n",
                            "2                      NaN                      NaN     NaN            0  \n",
                            "3                      NaN                      NaN     NaN            0  \n",
                            "4                      NaN                      NaN     NaN            0  "
                        ]
                    },
                    "execution_count": 3,
                    "metadata": {},
                    "output_type": "execute_result"
                }
            ],
            "source": [
                "patients.head()"
            ]
        },
        {
            "cell_type": "code",
            "execution_count": 4,
            "id": "7b5d052d-565c-4680-b110-ff2deeecbfff",
            "metadata": {},
            "outputs": [
                {
                    "data": {
                        "text/html": [
                            "<div>\n",
                            "<style scoped>\n",
                            "    .dataframe tbody tr th:only-of-type {\n",
                            "        vertical-align: middle;\n",
                            "    }\n",
                            "\n",
                            "    .dataframe tbody tr th {\n",
                            "        vertical-align: top;\n",
                            "    }\n",
                            "\n",
                            "    .dataframe thead th {\n",
                            "        text-align: right;\n",
                            "    }\n",
                            "</style>\n",
                            "<table border=\"1\" class=\"dataframe\">\n",
                            "  <thead>\n",
                            "    <tr style=\"text-align: right;\">\n",
                            "      <th></th>\n",
                            "      <th>row_id</th>\n",
                            "      <th>subject_id</th>\n",
                            "      <th>hadm_id</th>\n",
                            "      <th>admittime</th>\n",
                            "      <th>dischtime</th>\n",
                            "      <th>deathtime</th>\n",
                            "      <th>admission_type</th>\n",
                            "      <th>admission_location</th>\n",
                            "      <th>discharge_location</th>\n",
                            "      <th>insurance</th>\n",
                            "      <th>language</th>\n",
                            "      <th>religion</th>\n",
                            "      <th>marital_status</th>\n",
                            "      <th>ethnicity</th>\n",
                            "      <th>edregtime</th>\n",
                            "      <th>edouttime</th>\n",
                            "      <th>diagnosis</th>\n",
                            "      <th>hospital_expire_flag</th>\n",
                            "      <th>has_chartevents_data</th>\n",
                            "    </tr>\n",
                            "  </thead>\n",
                            "  <tbody>\n",
                            "    <tr>\n",
                            "      <th>0</th>\n",
                            "      <td>21</td>\n",
                            "      <td>22</td>\n",
                            "      <td>165315</td>\n",
                            "      <td>2196-04-09 12:26:00.000</td>\n",
                            "      <td>2196-04-10 15:54:00.000</td>\n",
                            "      <td>NaN</td>\n",
                            "      <td>EMERGENCY</td>\n",
                            "      <td>EMERGENCY ROOM ADMIT</td>\n",
                            "      <td>DISC-TRAN CANCER/CHLDRN H</td>\n",
                            "      <td>Private</td>\n",
                            "      <td>NaN</td>\n",
                            "      <td>UNOBTAINABLE</td>\n",
                            "      <td>MARRIED</td>\n",
                            "      <td>WHITE</td>\n",
                            "      <td>2196-04-09 10:06:00.000</td>\n",
                            "      <td>2196-04-09 13:24:00.000</td>\n",
                            "      <td>BENZODIAZEPINE OVERDOSE</td>\n",
                            "      <td>0</td>\n",
                            "      <td>1</td>\n",
                            "    </tr>\n",
                            "    <tr>\n",
                            "      <th>1</th>\n",
                            "      <td>22</td>\n",
                            "      <td>23</td>\n",
                            "      <td>152223</td>\n",
                            "      <td>2153-09-03 07:15:00.000</td>\n",
                            "      <td>2153-09-08 19:10:00.000</td>\n",
                            "      <td>NaN</td>\n",
                            "      <td>ELECTIVE</td>\n",
                            "      <td>PHYS REFERRAL/NORMAL DELI</td>\n",
                            "      <td>HOME HEALTH CARE</td>\n",
                            "      <td>Medicare</td>\n",
                            "      <td>NaN</td>\n",
                            "      <td>CATHOLIC</td>\n",
                            "      <td>MARRIED</td>\n",
                            "      <td>WHITE</td>\n",
                            "      <td>NaN</td>\n",
                            "      <td>NaN</td>\n",
                            "      <td>CORONARY ARTERY DISEASE\\CORONARY ARTERY BYPASS...</td>\n",
                            "      <td>0</td>\n",
                            "      <td>1</td>\n",
                            "    </tr>\n",
                            "    <tr>\n",
                            "      <th>2</th>\n",
                            "      <td>23</td>\n",
                            "      <td>23</td>\n",
                            "      <td>124321</td>\n",
                            "      <td>2157-10-18 19:34:00.000</td>\n",
                            "      <td>2157-10-25 14:00:00.000</td>\n",
                            "      <td>NaN</td>\n",
                            "      <td>EMERGENCY</td>\n",
                            "      <td>TRANSFER FROM HOSP/EXTRAM</td>\n",
                            "      <td>HOME HEALTH CARE</td>\n",
                            "      <td>Medicare</td>\n",
                            "      <td>ENGL</td>\n",
                            "      <td>CATHOLIC</td>\n",
                            "      <td>MARRIED</td>\n",
                            "      <td>WHITE</td>\n",
                            "      <td>NaN</td>\n",
                            "      <td>NaN</td>\n",
                            "      <td>BRAIN MASS</td>\n",
                            "      <td>0</td>\n",
                            "      <td>1</td>\n",
                            "    </tr>\n",
                            "    <tr>\n",
                            "      <th>3</th>\n",
                            "      <td>24</td>\n",
                            "      <td>24</td>\n",
                            "      <td>161859</td>\n",
                            "      <td>2139-06-06 16:14:00.000</td>\n",
                            "      <td>2139-06-09 12:48:00.000</td>\n",
                            "      <td>NaN</td>\n",
                            "      <td>EMERGENCY</td>\n",
                            "      <td>TRANSFER FROM HOSP/EXTRAM</td>\n",
                            "      <td>HOME</td>\n",
                            "      <td>Private</td>\n",
                            "      <td>NaN</td>\n",
                            "      <td>PROTESTANT QUAKER</td>\n",
                            "      <td>SINGLE</td>\n",
                            "      <td>WHITE</td>\n",
                            "      <td>NaN</td>\n",
                            "      <td>NaN</td>\n",
                            "      <td>INTERIOR MYOCARDIAL INFARCTION</td>\n",
                            "      <td>0</td>\n",
                            "      <td>1</td>\n",
                            "    </tr>\n",
                            "    <tr>\n",
                            "      <th>4</th>\n",
                            "      <td>25</td>\n",
                            "      <td>25</td>\n",
                            "      <td>129635</td>\n",
                            "      <td>2160-11-02 02:06:00.000</td>\n",
                            "      <td>2160-11-05 14:55:00.000</td>\n",
                            "      <td>NaN</td>\n",
                            "      <td>EMERGENCY</td>\n",
                            "      <td>EMERGENCY ROOM ADMIT</td>\n",
                            "      <td>HOME</td>\n",
                            "      <td>Private</td>\n",
                            "      <td>NaN</td>\n",
                            "      <td>UNOBTAINABLE</td>\n",
                            "      <td>MARRIED</td>\n",
                            "      <td>WHITE</td>\n",
                            "      <td>2160-11-02 01:01:00.000</td>\n",
                            "      <td>2160-11-02 04:27:00.000</td>\n",
                            "      <td>ACUTE CORONARY SYNDROME</td>\n",
                            "      <td>0</td>\n",
                            "      <td>1</td>\n",
                            "    </tr>\n",
                            "  </tbody>\n",
                            "</table>\n",
                            "</div>"
                        ],
                        "text/plain": [
                            "   row_id  subject_id  hadm_id                admittime  \\\n",
                            "0      21          22   165315  2196-04-09 12:26:00.000   \n",
                            "1      22          23   152223  2153-09-03 07:15:00.000   \n",
                            "2      23          23   124321  2157-10-18 19:34:00.000   \n",
                            "3      24          24   161859  2139-06-06 16:14:00.000   \n",
                            "4      25          25   129635  2160-11-02 02:06:00.000   \n",
                            "\n",
                            "                 dischtime deathtime admission_type  \\\n",
                            "0  2196-04-10 15:54:00.000       NaN      EMERGENCY   \n",
                            "1  2153-09-08 19:10:00.000       NaN       ELECTIVE   \n",
                            "2  2157-10-25 14:00:00.000       NaN      EMERGENCY   \n",
                            "3  2139-06-09 12:48:00.000       NaN      EMERGENCY   \n",
                            "4  2160-11-05 14:55:00.000       NaN      EMERGENCY   \n",
                            "\n",
                            "          admission_location         discharge_location insurance language  \\\n",
                            "0       EMERGENCY ROOM ADMIT  DISC-TRAN CANCER/CHLDRN H   Private      NaN   \n",
                            "1  PHYS REFERRAL/NORMAL DELI           HOME HEALTH CARE  Medicare      NaN   \n",
                            "2  TRANSFER FROM HOSP/EXTRAM           HOME HEALTH CARE  Medicare     ENGL   \n",
                            "3  TRANSFER FROM HOSP/EXTRAM                       HOME   Private      NaN   \n",
                            "4       EMERGENCY ROOM ADMIT                       HOME   Private      NaN   \n",
                            "\n",
                            "            religion marital_status ethnicity                edregtime  \\\n",
                            "0       UNOBTAINABLE        MARRIED     WHITE  2196-04-09 10:06:00.000   \n",
                            "1           CATHOLIC        MARRIED     WHITE                      NaN   \n",
                            "2           CATHOLIC        MARRIED     WHITE                      NaN   \n",
                            "3  PROTESTANT QUAKER         SINGLE     WHITE                      NaN   \n",
                            "4       UNOBTAINABLE        MARRIED     WHITE  2160-11-02 01:01:00.000   \n",
                            "\n",
                            "                 edouttime                                          diagnosis  \\\n",
                            "0  2196-04-09 13:24:00.000                            BENZODIAZEPINE OVERDOSE   \n",
                            "1                      NaN  CORONARY ARTERY DISEASE\\CORONARY ARTERY BYPASS...   \n",
                            "2                      NaN                                         BRAIN MASS   \n",
                            "3                      NaN                     INTERIOR MYOCARDIAL INFARCTION   \n",
                            "4  2160-11-02 04:27:00.000                            ACUTE CORONARY SYNDROME   \n",
                            "\n",
                            "   hospital_expire_flag  has_chartevents_data  \n",
                            "0                     0                     1  \n",
                            "1                     0                     1  \n",
                            "2                     0                     1  \n",
                            "3                     0                     1  \n",
                            "4                     0                     1  "
                        ]
                    },
                    "execution_count": 4,
                    "metadata": {},
                    "output_type": "execute_result"
                }
            ],
            "source": [
                "admissions.head()"
            ]
        },
        {
            "cell_type": "code",
            "execution_count": 5,
            "id": "a3150d60-d2e9-44c1-a754-1281b258d91a",
            "metadata": {
                "scrolled": true
            },
            "outputs": [],
            "source": [
                "admissions[\"admittime\"] = pd.to_datetime(admissions[\"admittime\"])\nadmissions[\"dischtime\"] = pd.to_datetime(admissions[\"dischtime\"])\n\nadmissions = admissions.sort_values([\"subject_id\", \"admittime\"])\n\nadmissions[\"next_admit\"] = admissions.groupby(\"subject_id\")[\"admittime\"].shift(-1)  # Next admission time\nadmissions[\"readmitted_30d\"] = (admissions[\"next_admit\"] - admissions[\"dischtime\"]).dt.days <= 30\nadmissions[\"readmitted_30d\"] = admissions[\"readmitted_30d\"].astype(int)\n\nadmissions.drop(columns=[\"next_admit\"], inplace=True)\n"
            ]
        },
        {
            "cell_type": "code",
            "execution_count": 6,
            "id": "3757590f-b40c-452b-b4b7-315a97f510a8",
            "metadata": {},
            "outputs": [],
            "source": [
                "df = admissions.merge(diagnoses_icd, on=[\"subject_id\", \"hadm_id\"], how=\"left\")\n\ndf.fillna(0, inplace=True)\n"
            ]
        },
        {
            "cell_type": "code",
            "execution_count": 7,
            "id": "b060da5f-1715-4774-a532-5dfb15cb1d9b",
            "metadata": {},
            "outputs": [],
            "source": [
                "df[\"length_of_stay\"] = (df[\"dischtime\"] - df[\"admittime\"]).dt.days\n\ndf[\"previous_admissions\"] = df.groupby(\"subject_id\")[\"hadm_id\"].cumcount()\n\nheart_failure_codes = {'39891', '40201', '40211', '40291', '40401', '40403', '40411', '40413',\n                       '40491', '40493', '4280', '4281', '42820', '42821', '42822', '42823', \n                       '42830', '42831', '42832', '42833', '42840', '42841', '42842', '42843', '4289'}\n\ndf[\"heart_failure\"] = df[\"icd9_code\"].astype(str).isin(heart_failure_codes).astype(int)\n"
            ]
        },
        {
            "cell_type": "code",
            "execution_count": 8,
            "id": "49708d4f-479b-4ac9-b81c-4680c18e4a13",
            "metadata": {
                "scrolled": true
            },
            "outputs": [
                {
                    "name": "stderr",
                    "output_type": "stream",
                    "text": [
                        "C:\\Users\\soodv\\AppData\\Local\\Temp\\ipykernel_2100\\3095911562.py:27: FutureWarning: A value is trying to be set on a copy of a DataFrame or Series through chained assignment using an inplace method.\n",
                        "The behavior will change in pandas 3.0. This inplace method will never work because the intermediate object on which we are setting values always behaves as a copy.\n",
                        "\n",
                        "For example, when doing 'df[col].method(value, inplace=True)', try using 'df.method({col: value}, inplace=True)' or df[col] = df[col].method(value) instead, to perform the operation inplace on the original object.\n",
                        "\n",
                        "\n",
                        "  admissions_patients[\"age_at_admission\"].fillna(admissions_patients[\"age_at_admission\"].median(), inplace=True)\n"
                    ]
                }
            ],
            "source": [
                "import pandas as pd\n\nadmissions[\"admittime\"] = pd.to_datetime(admissions[\"admittime\"], errors=\"coerce\")\npatients[\"dob\"] = pd.to_datetime(patients[\"dob\"], errors=\"coerce\")\n\nfuture_date_threshold = pd.Timestamp(\"2025-01-01\")  # Adjust if needed\npatients.loc[patients[\"dob\"] > future_date_threshold, \"dob\"] = pd.NaT\n\nadmissions_patients = pd.merge(\n    admissions[[\"subject_id\", \"admittime\"]],\n    patients[[\"subject_id\", \"dob\"]],\n    on=\"subject_id\",\n    how=\"left\"\n)\n\nadmissions_patients[\"age_at_admission\"] = (\n    (admissions_patients[\"admittime\"].astype(\"int64\") // 10**9 - \n     admissions_patients[\"dob\"].astype(\"int64\") // 10**9) / (60 * 60 * 24 * 365.25)\n)\n\nadmissions_patients.loc[admissions_patients[\"age_at_admission\"] > 300, \"age_at_admission\"] = 90\nadmissions_patients[\"age_at_admission\"].fillna(admissions_patients[\"age_at_admission\"].median(), inplace=True)\n\ndf = pd.merge(df, admissions_patients[[\"subject_id\", \"age_at_admission\"]], on=\"subject_id\", how=\"left\")\n"
            ]
        },
        {
            "cell_type": "code",
            "execution_count": 9,
            "id": "a75ee989-d7b7-4fc5-834e-a21a32fe2aef",
            "metadata": {},
            "outputs": [],
            "source": [
                "from sklearn.model_selection import train_test_split\n\nX = df[[\"length_of_stay\", \"previous_admissions\", \"age_at_admission\", \"heart_failure\"]]  # Add more features as needed\ny = df[\"readmitted_30d\"]\n\nX_train, X_test, y_train, y_test = train_test_split(X, y, test_size=0.2, random_state=42, stratify=y)\n"
            ]
        },
        {
            "cell_type": "code",
            "execution_count": 10,
            "id": "de2f725b-c8d5-4311-b084-b9a63b0d9b92",
            "metadata": {},
            "outputs": [
                {
                    "name": "stdout",
                    "output_type": "stream",
                    "text": [
                        "Index(['row_id_x', 'subject_id', 'hadm_id', 'admittime', 'dischtime',\n",
                        "       'deathtime', 'admission_type', 'admission_location',\n",
                        "       'discharge_location', 'insurance', 'language', 'religion',\n",
                        "       'marital_status', 'ethnicity', 'edregtime', 'edouttime', 'diagnosis',\n",
                        "       'hospital_expire_flag', 'has_chartevents_data', 'readmitted_30d',\n",
                        "       'row_id_y', 'seq_num', 'icd9_code', 'length_of_stay',\n",
                        "       'previous_admissions', 'heart_failure', 'age_at_admission'],\n",
                        "      dtype='object')\n"
                    ]
                }
            ],
            "source": [
                "print(df.columns)\n"
            ]
        },
        {
            "cell_type": "code",
            "execution_count": 11,
            "id": "7553b2b0-f19a-4aea-9399-bef885de540f",
            "metadata": {},
            "outputs": [
                {
                    "name": "stdout",
                    "output_type": "stream",
                    "text": [
                        "X_train shape: (1099983, 4)\n",
                        "y_train shape: (1099983,)\n",
                        "Unique values in y_train: [0 1]\n"
                    ]
                }
            ],
            "source": [
                "print(\"X_train shape:\", X_train.shape)\nprint(\"y_train shape:\", y_train.shape)\nprint(\"Unique values in y_train:\", y_train.unique())\n"
            ]
        },
        {
            "cell_type": "code",
            "execution_count": 14,
            "id": "4e5cddbf-7e51-4ba3-9ebb-06e0ad7a850c",
            "metadata": {
                "scrolled": true
            },
            "outputs": [
                {
                    "name": "stdout",
                    "output_type": "stream",
                    "text": [
                        "[0]\ttrain-auc:0.56063\teval-auc:0.56090\n",
                        "[50]\ttrain-auc:0.69928\teval-auc:0.70129\n",
                        "[100]\ttrain-auc:0.70984\teval-auc:0.71138\n",
                        "[150]\ttrain-auc:0.71560\teval-auc:0.71677\n",
                        "[200]\ttrain-auc:0.72092\teval-auc:0.72174\n",
                        "[250]\ttrain-auc:0.72450\teval-auc:0.72502\n",
                        "[300]\ttrain-auc:0.72725\teval-auc:0.72743\n",
                        "[350]\ttrain-auc:0.72996\teval-auc:0.72984\n",
                        "[400]\ttrain-auc:0.73232\teval-auc:0.73201\n",
                        "[450]\ttrain-auc:0.73370\teval-auc:0.73313\n",
                        "[499]\ttrain-auc:0.73534\teval-auc:0.73447\n",
                        "\n",
                        "\ud83c\udfc6 Best Iteration: 499\n",
                        "\ud83c\udfaf Improved Accuracy: 0.7142\n",
                        "\ud83d\udcca Improved AUC Score: 0.7345\n"
                    ]
                }
            ],
            "source": [
                "import xgboost as xgb\nfrom sklearn.metrics import accuracy_score, roc_auc_score\n\ndtrain = xgb.DMatrix(X_train, label=y_train)\ndtest = xgb.DMatrix(X_test, label=y_test)\n\nparams = {\n    'booster': 'gbtree',\n    \"objective\": \"binary:logistic\",  # Binary classification\n    \"eval_metric\": \"auc\",  # Use AUC as the metric\n    \"max_depth\": 6,  # Slightly increased depth\n    \"learning_rate\": 0.1,  # Lower LR for stable learning\n    \"scale_pos_weight\": sum(y_train == 0) / sum(y_train == 1),  # Handle imbalance\n    \"subsample\": 0.95,  # More diverse trees\n    \"colsample_bytree\": 0.85,  # More feature selection\n    \"min_child_weight\": 2,  # Prevents small data splits\n    \"gamma\": 0.3,  # Prunes trees with low gain\n    \"reg_lambda\": 1.5,  # L2 regularization\n}\n\nwatchlist = [(dtrain, \"train\"), (dtest, \"eval\")]\nmodel = xgb.train(\n    params, dtrain, num_boost_round=500, evals=watchlist, \n    early_stopping_rounds=50, verbose_eval=50 # Logs progress every 50 rounds\n)\n\ny_pred = model.predict(dtest)\ny_pred_binary = (y_pred > 0.5).astype(int)  # Convert probabilities to binary labels\n\naccuracy = accuracy_score(y_test, y_pred_binary)\nauc = roc_auc_score(y_test, y_pred)\n\nprint(f\"\\n\ud83c\udfc6 Best Iteration: {model.best_iteration}\")\nprint(f\"\ud83c\udfaf Improved Accuracy: {accuracy:.4f}\")\nprint(f\"\ud83d\udcca Improved AUC Score: {auc:.4f}\")\n"
            ]
        },
        {
            "cell_type": "code",
            "execution_count": null,
            "id": "5766fd7e-fa9a-44e7-b030-1d22f111acc3",
            "metadata": {},
            "outputs": [],
            "source": [
                ""
            ]
        }
    ],
    "metadata": {
        "kernelspec": {
            "display_name": "Python 3 (ipykernel)",
            "language": "python",
            "name": "python3"
        },
        "language_info": {
            "codemirror_mode": {
                "name": "ipython",
                "version": 3
            },
            "file_extension": ".py",
            "mimetype": "text/x-python",
            "name": "python",
            "nbconvert_exporter": "python",
            "pygments_lexer": "ipython3",
            "version": "3.11.4"
        }
    },
    "nbformat": 4,
    "nbformat_minor": 5
}